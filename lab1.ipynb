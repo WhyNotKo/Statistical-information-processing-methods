{
 "cells": [
  {
   "cell_type": "code",
   "execution_count": 3,
   "id": "9d34972d",
   "metadata": {},
   "outputs": [],
   "source": [
    "import pandas as pd\n",
    "import numpy as np"
   ]
  },
  {
   "cell_type": "code",
   "execution_count": 33,
   "id": "21d10f81",
   "metadata": {},
   "outputs": [
    {
     "data": {
      "text/html": [
       "<div>\n",
       "<style scoped>\n",
       "    .dataframe tbody tr th:only-of-type {\n",
       "        vertical-align: middle;\n",
       "    }\n",
       "\n",
       "    .dataframe tbody tr th {\n",
       "        vertical-align: top;\n",
       "    }\n",
       "\n",
       "    .dataframe thead th {\n",
       "        text-align: right;\n",
       "    }\n",
       "</style>\n",
       "<table border=\"1\" class=\"dataframe\">\n",
       "  <thead>\n",
       "    <tr style=\"text-align: right;\">\n",
       "      <th></th>\n",
       "      <th>first</th>\n",
       "      <th>second</th>\n",
       "      <th>third</th>\n",
       "      <th>fourth</th>\n",
       "      <th>fifth</th>\n",
       "      <th>sixth</th>\n",
       "      <th>seventh</th>\n",
       "    </tr>\n",
       "  </thead>\n",
       "  <tbody>\n",
       "    <tr>\n",
       "      <th>0</th>\n",
       "      <td>1.478837</td>\n",
       "      <td>3.524742</td>\n",
       "      <td>10.688410</td>\n",
       "      <td>8.762075</td>\n",
       "      <td>-0.639073</td>\n",
       "      <td>7</td>\n",
       "      <td>5</td>\n",
       "    </tr>\n",
       "    <tr>\n",
       "      <th>1</th>\n",
       "      <td>1.001225</td>\n",
       "      <td>0.704558</td>\n",
       "      <td>13.948562</td>\n",
       "      <td>8.406540</td>\n",
       "      <td>1.338411</td>\n",
       "      <td>4</td>\n",
       "      <td>7</td>\n",
       "    </tr>\n",
       "    <tr>\n",
       "      <th>2</th>\n",
       "      <td>12.442777</td>\n",
       "      <td>9.485070</td>\n",
       "      <td>11.323363</td>\n",
       "      <td>6.717878</td>\n",
       "      <td>11.860927</td>\n",
       "      <td>3</td>\n",
       "      <td>3</td>\n",
       "    </tr>\n",
       "    <tr>\n",
       "      <th>3</th>\n",
       "      <td>7.258455</td>\n",
       "      <td>4.063322</td>\n",
       "      <td>6.812343</td>\n",
       "      <td>9.374129</td>\n",
       "      <td>4.627152</td>\n",
       "      <td>4</td>\n",
       "      <td>12</td>\n",
       "    </tr>\n",
       "    <tr>\n",
       "      <th>4</th>\n",
       "      <td>2.847905</td>\n",
       "      <td>2.474827</td>\n",
       "      <td>13.001960</td>\n",
       "      <td>6.004247</td>\n",
       "      <td>3.497351</td>\n",
       "      <td>7</td>\n",
       "      <td>9</td>\n",
       "    </tr>\n",
       "    <tr>\n",
       "      <th>...</th>\n",
       "      <td>...</td>\n",
       "      <td>...</td>\n",
       "      <td>...</td>\n",
       "      <td>...</td>\n",
       "      <td>...</td>\n",
       "      <td>...</td>\n",
       "      <td>...</td>\n",
       "    </tr>\n",
       "    <tr>\n",
       "      <th>495</th>\n",
       "      <td>12.652488</td>\n",
       "      <td>5.980685</td>\n",
       "      <td>11.551907</td>\n",
       "      <td>15.599527</td>\n",
       "      <td>0.413245</td>\n",
       "      <td>3</td>\n",
       "      <td>16</td>\n",
       "    </tr>\n",
       "    <tr>\n",
       "      <th>496</th>\n",
       "      <td>3.017953</td>\n",
       "      <td>5.027926</td>\n",
       "      <td>1.647249</td>\n",
       "      <td>6.883272</td>\n",
       "      <td>16.401325</td>\n",
       "      <td>3</td>\n",
       "      <td>12</td>\n",
       "    </tr>\n",
       "    <tr>\n",
       "      <th>497</th>\n",
       "      <td>15.229314</td>\n",
       "      <td>7.827465</td>\n",
       "      <td>6.470981</td>\n",
       "      <td>4.492946</td>\n",
       "      <td>5.352318</td>\n",
       "      <td>3</td>\n",
       "      <td>12</td>\n",
       "    </tr>\n",
       "    <tr>\n",
       "      <th>498</th>\n",
       "      <td>7.899367</td>\n",
       "      <td>1.921087</td>\n",
       "      <td>10.150870</td>\n",
       "      <td>6.701511</td>\n",
       "      <td>7.854305</td>\n",
       "      <td>4</td>\n",
       "      <td>8</td>\n",
       "    </tr>\n",
       "    <tr>\n",
       "      <th>499</th>\n",
       "      <td>11.083108</td>\n",
       "      <td>-0.720757</td>\n",
       "      <td>6.714316</td>\n",
       "      <td>3.628296</td>\n",
       "      <td>14.752318</td>\n",
       "      <td>8</td>\n",
       "      <td>9</td>\n",
       "    </tr>\n",
       "  </tbody>\n",
       "</table>\n",
       "<p>500 rows × 7 columns</p>\n",
       "</div>"
      ],
      "text/plain": [
       "         first    second      third     fourth      fifth  sixth  seventh\n",
       "0     1.478837  3.524742  10.688410   8.762075  -0.639073      7        5\n",
       "1     1.001225  0.704558  13.948562   8.406540   1.338411      4        7\n",
       "2    12.442777  9.485070  11.323363   6.717878  11.860927      3        3\n",
       "3     7.258455  4.063322   6.812343   9.374129   4.627152      4       12\n",
       "4     2.847905  2.474827  13.001960   6.004247   3.497351      7        9\n",
       "..         ...       ...        ...        ...        ...    ...      ...\n",
       "495  12.652488  5.980685  11.551907  15.599527   0.413245      3       16\n",
       "496   3.017953  5.027926   1.647249   6.883272  16.401325      3       12\n",
       "497  15.229314  7.827465   6.470981   4.492946   5.352318      3       12\n",
       "498   7.899367  1.921087  10.150870   6.701511   7.854305      4        8\n",
       "499  11.083108 -0.720757   6.714316   3.628296  14.752318      8        9\n",
       "\n",
       "[500 rows x 7 columns]"
      ]
     },
     "execution_count": 33,
     "metadata": {},
     "output_type": "execute_result"
    }
   ],
   "source": [
    "data = pd.read_excel('data1.xlsx', sheet_name = '1')\n",
    "data"
   ]
  },
  {
   "cell_type": "code",
   "execution_count": 52,
   "id": "fda3d7af",
   "metadata": {},
   "outputs": [
    {
     "data": {
      "text/html": [
       "<div>\n",
       "<style scoped>\n",
       "    .dataframe tbody tr th:only-of-type {\n",
       "        vertical-align: middle;\n",
       "    }\n",
       "\n",
       "    .dataframe tbody tr th {\n",
       "        vertical-align: top;\n",
       "    }\n",
       "\n",
       "    .dataframe thead th {\n",
       "        text-align: right;\n",
       "    }\n",
       "</style>\n",
       "<table border=\"1\" class=\"dataframe\">\n",
       "  <thead>\n",
       "    <tr style=\"text-align: right;\">\n",
       "      <th></th>\n",
       "      <th>count</th>\n",
       "      <th>mean</th>\n",
       "      <th>std</th>\n",
       "      <th>min</th>\n",
       "      <th>25%</th>\n",
       "      <th>50%</th>\n",
       "      <th>75%</th>\n",
       "      <th>max</th>\n",
       "    </tr>\n",
       "  </thead>\n",
       "  <tbody>\n",
       "    <tr>\n",
       "      <th>first</th>\n",
       "      <td>500.0</td>\n",
       "      <td>4.995870</td>\n",
       "      <td>7.127216</td>\n",
       "      <td>-13.871724</td>\n",
       "      <td>0.222956</td>\n",
       "      <td>4.997589</td>\n",
       "      <td>9.730043</td>\n",
       "      <td>28.640459</td>\n",
       "    </tr>\n",
       "    <tr>\n",
       "      <th>second</th>\n",
       "      <td>500.0</td>\n",
       "      <td>5.754075</td>\n",
       "      <td>5.007535</td>\n",
       "      <td>-6.764758</td>\n",
       "      <td>2.196860</td>\n",
       "      <td>5.598913</td>\n",
       "      <td>8.999177</td>\n",
       "      <td>21.848491</td>\n",
       "    </tr>\n",
       "    <tr>\n",
       "      <th>third</th>\n",
       "      <td>500.0</td>\n",
       "      <td>7.129688</td>\n",
       "      <td>5.062651</td>\n",
       "      <td>-11.707942</td>\n",
       "      <td>3.823782</td>\n",
       "      <td>6.793201</td>\n",
       "      <td>10.580811</td>\n",
       "      <td>24.817365</td>\n",
       "    </tr>\n",
       "    <tr>\n",
       "      <th>fourth</th>\n",
       "      <td>500.0</td>\n",
       "      <td>6.778237</td>\n",
       "      <td>3.052341</td>\n",
       "      <td>-2.544892</td>\n",
       "      <td>4.669620</td>\n",
       "      <td>6.844562</td>\n",
       "      <td>8.763167</td>\n",
       "      <td>15.599527</td>\n",
       "    </tr>\n",
       "    <tr>\n",
       "      <th>fifth</th>\n",
       "      <td>500.0</td>\n",
       "      <td>7.204123</td>\n",
       "      <td>6.343499</td>\n",
       "      <td>-3.960927</td>\n",
       "      <td>2.123675</td>\n",
       "      <td>7.580795</td>\n",
       "      <td>12.529470</td>\n",
       "      <td>17.665563</td>\n",
       "    </tr>\n",
       "    <tr>\n",
       "      <th>sixth</th>\n",
       "      <td>500.0</td>\n",
       "      <td>4.978000</td>\n",
       "      <td>2.233269</td>\n",
       "      <td>0.000000</td>\n",
       "      <td>3.000000</td>\n",
       "      <td>5.000000</td>\n",
       "      <td>7.000000</td>\n",
       "      <td>12.000000</td>\n",
       "    </tr>\n",
       "    <tr>\n",
       "      <th>seventh</th>\n",
       "      <td>500.0</td>\n",
       "      <td>9.980000</td>\n",
       "      <td>2.419775</td>\n",
       "      <td>3.000000</td>\n",
       "      <td>8.000000</td>\n",
       "      <td>10.000000</td>\n",
       "      <td>12.000000</td>\n",
       "      <td>17.000000</td>\n",
       "    </tr>\n",
       "  </tbody>\n",
       "</table>\n",
       "</div>"
      ],
      "text/plain": [
       "         count      mean       std        min       25%        50%        75%  \\\n",
       "first    500.0  4.995870  7.127216 -13.871724  0.222956   4.997589   9.730043   \n",
       "second   500.0  5.754075  5.007535  -6.764758  2.196860   5.598913   8.999177   \n",
       "third    500.0  7.129688  5.062651 -11.707942  3.823782   6.793201  10.580811   \n",
       "fourth   500.0  6.778237  3.052341  -2.544892  4.669620   6.844562   8.763167   \n",
       "fifth    500.0  7.204123  6.343499  -3.960927  2.123675   7.580795  12.529470   \n",
       "sixth    500.0  4.978000  2.233269   0.000000  3.000000   5.000000   7.000000   \n",
       "seventh  500.0  9.980000  2.419775   3.000000  8.000000  10.000000  12.000000   \n",
       "\n",
       "               max  \n",
       "first    28.640459  \n",
       "second   21.848491  \n",
       "third    24.817365  \n",
       "fourth   15.599527  \n",
       "fifth    17.665563  \n",
       "sixth    12.000000  \n",
       "seventh  17.000000  "
      ]
     },
     "execution_count": 52,
     "metadata": {},
     "output_type": "execute_result"
    }
   ],
   "source": [
    "res = data.describe().T\n",
    "res"
   ]
  },
  {
   "cell_type": "code",
   "execution_count": 35,
   "id": "b66ae9de",
   "metadata": {},
   "outputs": [
    {
     "data": {
      "text/plain": [
       "<AxesSubplot:ylabel='Density'>"
      ]
     },
     "execution_count": 35,
     "metadata": {},
     "output_type": "execute_result"
    },
    {
     "data": {
      "image/png": "[encoded data removed]",
      "text/plain": [
       "<Figure size 640x480 with 1 Axes>"
      ]
     },
     "metadata": {},
     "output_type": "display_data"
    }
   ],
   "source": [
    "data.plot(kind = 'density')"
   ]
  },
  {
   "cell_type": "code",
   "execution_count": 51,
   "id": "303d5b73",
   "metadata": {},
   "outputs": [
    {
     "data": {
      "text/plain": [
       "first      0.024954\n",
       "second     0.284607\n",
       "third      0.135597\n",
       "fourth    -0.037635\n",
       "fifth     -0.062345\n",
       "sixth      0.353924\n",
       "seventh    0.057558\n",
       "dtype: float64"
      ]
     },
     "execution_count": 51,
     "metadata": {},
     "output_type": "execute_result"
    }
   ],
   "source": [
    "data.skew()"
   ]
  },
  {
   "cell_type": "code",
   "execution_count": 48,
   "id": "1eb6d445",
   "metadata": {},
   "outputs": [
    {
     "data": {
      "text/plain": [
       "first     -0.053823\n",
       "second    -0.181287\n",
       "third      0.226613\n",
       "fourth    -0.103252\n",
       "fifth     -1.182578\n",
       "sixth     -0.192180\n",
       "seventh   -0.150359\n",
       "dtype: float64"
      ]
     },
     "execution_count": 48,
     "metadata": {},
     "output_type": "execute_result"
    }
   ],
   "source": [
    "data.kurtosis()"
   ]
  },
  {
   "cell_type": "code",
   "execution_count": 46,
   "id": "77337928",
   "metadata": {},
   "outputs": [
    {
     "data": {
      "text/plain": [
       "<AxesSubplot:>"
      ]
     },
     "execution_count": 46,
     "metadata": {},
     "output_type": "execute_result"
    },
    {
     "data": {
      "image/png": "[encoded data removed]",
      "text/plain": [
       "<Figure size 640x480 with 1 Axes>"
      ]
     },
     "metadata": {},
     "output_type": "display_data"
    }
   ],
   "source": [
    "data.boxplot()"
   ]
  },
  {
   "cell_type": "code",
   "execution_count": null,
   "id": "dafa9096",
   "metadata": {},
   "outputs": [],
   "source": []
  }
 ],
 "metadata": {
  "kernelspec": {
   "display_name": "Python 3 (ipykernel)",
   "language": "python",
   "name": "python3"
  },
  "language_info": {
   "codemirror_mode": {
    "name": "ipython",
    "version": 3
   },
   "file_extension": ".py",
   "mimetype": "text/x-python",
   "name": "python",
   "nbconvert_exporter": "python",
   "pygments_lexer": "ipython3",
   "version": "3.10.1"
  }
 },
 "nbformat": 4,
 "nbformat_minor": 5
}

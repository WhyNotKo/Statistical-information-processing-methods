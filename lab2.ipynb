{
 "cells": [
  {
   "cell_type": "code",
   "execution_count": 44,
   "id": "52ce5f7f",
   "metadata": {},
   "outputs": [],
   "source": [
    "import pandas as pd\n",
    "import numpy as np\n",
    "import seaborn as sns\n",
    "from matplotlib import pyplot as plt\n",
    "from scipy.stats import chisquare\n",
    "from statistics import *\n",
    "import collections\n",
    "plt.style.use('Solarize_Light2') # Функция для задания стиля графикам"
   ]
  },
  {
   "cell_type": "code",
   "execution_count": 28,
   "id": "ae41244c",
   "metadata": {},
   "outputs": [],
   "source": [
    "data = pd.read_excel('data1.xlsx', sheet_name = '1') # читаем из файла все выборки \n",
    "data # выводим их\n",
    "# m = mean(data['first'])\n",
    "# x = [5 for i in range (len(data['first']))]"
   ]
  },
  {
   "cell_type": "markdown",
   "id": "f7c1f729",
   "metadata": {},
   "source": [
    "1, 2, 3, 4 - нормальные распределения (Среднее ~ медиана; Эксцесс и ассиметрия ~ 0; На гистограмме вид нормального распределения)\n",
    "\n",
    "    1 - m = 5  s = 7.1\n",
    "\n",
    "    2 - m = 5.8  s = 5\n",
    "\n",
    "    3 - m = 7.1  s = 5.1\n",
    "\n",
    "    4 - m = 6.8  s = 3.1\n",
    "\n",
    "5 - равномерное расределение (Эксцесс ~ 1,2 ассиметрия ~ 0; Мат ожидание ~ (min+max)/2; Дисперсия ~ (max-min)^2 / 2)\n",
    "\n",
    "    a = -3.960927; b = 17.665563\n",
    "\n",
    "6 - Пуассоновское распределение (мат. ожидание ~ дисперсии, дискретная выборка)\n",
    "\n",
    "    k = 13   lamda = 5\n",
    "\n",
    "7 - Биномиальное (исключительно по гистограмме)"
   ]
  },
  {
   "cell_type": "code",
   "execution_count": 30,
   "id": "f60588d5",
   "metadata": {},
   "outputs": [
    {
     "data": {
      "text/plain": [
       "Power_divergenceResult(statistic=5073.752937861422, pvalue=0.0)"
      ]
     },
     "execution_count": 30,
     "metadata": {},
     "output_type": "execute_result"
    }
   ],
   "source": [
    "chisquare(data['first'])"
   ]
  },
  {
   "cell_type": "code",
   "execution_count": 47,
   "id": "9a7e9eaa",
   "metadata": {},
   "outputs": [],
   "source": [
    "def nbin(n, xs): \n",
    "    '''Разбивка данных на частотные корзины'''\n",
    "    min_x, max_x = min(xs), max(xs)\n",
    "    range_x = max_x - min_x\n",
    "    fn = lambda x: min( int((abs(x) - min_x) / range_x * n), n-1 )\n",
    "    return map(fn, xs)"
   ]
  },
  {
   "cell_type": "code",
   "execution_count": 66,
   "id": "30b4ab39",
   "metadata": {},
   "outputs": [
    {
     "data": {
      "text/plain": [
       "Counter({7: 96,\n",
       "         9: 78,\n",
       "         8: 78,\n",
       "         10: 62,\n",
       "         11: 45,\n",
       "         6: 44,\n",
       "         12: 40,\n",
       "         13: 26,\n",
       "         14: 13,\n",
       "         15: 10,\n",
       "         16: 4,\n",
       "         17: 3,\n",
       "         19: 1})"
      ]
     },
     "execution_count": 66,
     "metadata": {},
     "output_type": "execute_result"
    }
   ],
   "source": [
    "collections.Counter(nbin(20, data['first']))"
   ]
  },
  {
   "cell_type": "code",
   "execution_count": null,
   "id": "ac579a81",
   "metadata": {},
   "outputs": [],
   "source": []
  }
 ],
 "metadata": {
  "kernelspec": {
   "display_name": "Python 3 (ipykernel)",
   "language": "python",
   "name": "python3"
  },
  "language_info": {
   "codemirror_mode": {
    "name": "ipython",
    "version": 3
   },
   "file_extension": ".py",
   "mimetype": "text/x-python",
   "name": "python",
   "nbconvert_exporter": "python",
   "pygments_lexer": "ipython3",
   "version": "3.10.1"
  }
 },
 "nbformat": 4,
 "nbformat_minor": 5
}
